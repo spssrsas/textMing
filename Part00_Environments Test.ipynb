{
 "cells": [
  {
   "cell_type": "code",
   "execution_count": 1,
   "metadata": {},
   "outputs": [
    {
     "data": {
      "text/plain": [
       "'0.23.1'"
      ]
     },
     "execution_count": 1,
     "metadata": {},
     "output_type": "execute_result"
    }
   ],
   "source": [
    "import sklearn\n",
    "sklearn.__version__"
   ]
  },
  {
   "cell_type": "code",
   "execution_count": 2,
   "metadata": {},
   "outputs": [
    {
     "data": {
      "text/plain": [
       "[('이제', 'MAG'),\n",
       " ('날', 'NNG'),\n",
       " ('이', 'JKS'),\n",
       " ('점점', 'MAG'),\n",
       " ('덥', 'VA'),\n",
       " ('어', 'EC'),\n",
       " ('지', 'VX'),\n",
       " ('는', 'ETM'),\n",
       " ('것', 'NNB'),\n",
       " ('이', 'JKS'),\n",
       " ('슬슬', 'MAG'),\n",
       " ('여름', 'NNG'),\n",
       " ('이', 'JKS'),\n",
       " ('오', 'VV'),\n",
       " ('나', 'EC'),\n",
       " ('보', 'VX'),\n",
       " ('다', 'EF'),\n",
       " ('.', 'SF')]"
      ]
     },
     "execution_count": 2,
     "metadata": {},
     "output_type": "execute_result"
    }
   ],
   "source": [
    "from konlpy.tag import Komoran\n",
    "\n",
    "komoran = Komoran()\n",
    "komoran.pos(\"이제 날이 점점 더워지는 것이 슬슬 여름이 오나보다.\")"
   ]
  },
  {
   "cell_type": "code",
   "execution_count": null,
   "metadata": {},
   "outputs": [],
   "source": []
  }
 ],
 "metadata": {
  "anaconda-cloud": {},
  "kernelspec": {
   "display_name": "Python 3",
   "language": "python",
   "name": "python3"
  },
  "language_info": {
   "codemirror_mode": {
    "name": "ipython",
    "version": 3
   },
   "file_extension": ".py",
   "mimetype": "text/x-python",
   "name": "python",
   "nbconvert_exporter": "python",
   "pygments_lexer": "ipython3",
   "version": "3.8.3"
  },
  "latex_metadata": {
   "author": "이기황",
   "coursetitle": "파이썬을 이용한 텍스트 마이닝 캠프",
   "courseyear": "2018",
   "date": "2018. 5. 31.",
   "logofile": "figs/fastcampus-logo.png",
   "logoraise": "-.3",
   "logoscale": ".2",
   "title": "텍스트 마이닝의 개관과 작업 환경의 구축"
  }
 },
 "nbformat": 4,
 "nbformat_minor": 2
}
