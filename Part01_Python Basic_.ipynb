{
 "cells": [
  {
   "cell_type": "markdown",
   "metadata": {},
   "source": [
    "## Part01_Python Basic"
   ]
  },
  {
   "cell_type": "markdown",
   "metadata": {},
   "source": [
    "### 1. 파이썬 시작하기"
   ]
  },
  {
   "cell_type": "markdown",
   "metadata": {},
   "source": [
    "#### 실행 결과의 출력"
   ]
  },
  {
   "cell_type": "markdown",
   "metadata": {},
   "source": [
    "- 실행 결과의 임시 출력 (맨 마지막 실행 결과만 출력함)"
   ]
  },
  {
   "cell_type": "code",
   "execution_count": null,
   "metadata": {},
   "outputs": [],
   "source": [
    "1+2"
   ]
  },
  {
   "cell_type": "code",
   "execution_count": null,
   "metadata": {},
   "outputs": [],
   "source": [
    "2*3"
   ]
  },
  {
   "cell_type": "code",
   "execution_count": null,
   "metadata": {},
   "outputs": [],
   "source": [
    "\"Hello\""
   ]
  },
  {
   "cell_type": "code",
   "execution_count": null,
   "metadata": {},
   "outputs": [],
   "source": [
    "1+2\n",
    "2*3\n",
    "\"Hello\""
   ]
  },
  {
   "cell_type": "markdown",
   "metadata": {},
   "source": [
    "- 실행 결과의 영구적 출력 (print 함수 사용)"
   ]
  },
  {
   "cell_type": "code",
   "execution_count": null,
   "metadata": {
    "scrolled": true
   },
   "outputs": [],
   "source": [
    "print(1+2)\n",
    "print(2*3)\n",
    "print(\"Hello\")\n",
    "\n",
    "str = \"Python\"\n",
    "print(str)"
   ]
  },
  {
   "cell_type": "markdown",
   "metadata": {},
   "source": [
    "#### input을 사용한 입력"
   ]
  },
  {
   "cell_type": "code",
   "execution_count": null,
   "metadata": {},
   "outputs": [],
   "source": [
    "a = input(\"임의의 수를 입력하세요: \")\n",
    "num = int(a) * 2\n",
    "\n",
    "print(num)"
   ]
  },
  {
   "cell_type": "markdown",
   "metadata": {},
   "source": [
    "#### 조건문(if)을 사용한 분기"
   ]
  },
  {
   "cell_type": "code",
   "execution_count": null,
   "metadata": {},
   "outputs": [],
   "source": [
    "a = input(\"임의의 수를 입력하세요: \")\n",
    "num = int(a)\n",
    "\n",
    "if num>5:\n",
    "    print(\"큰 수입니다.\")\n",
    "    print(\"여기까지 출력입니다.\")\n",
    "else:\n",
    "    print(\"작은 수입니다.\")"
   ]
  },
  {
   "cell_type": "markdown",
   "metadata": {},
   "source": [
    "#### 순환문과 반복문의 사용"
   ]
  },
  {
   "cell_type": "markdown",
   "metadata": {},
   "source": [
    "- 반복 회수가 알려진 경우 주로 while 문을 사용"
   ]
  },
  {
   "cell_type": "code",
   "execution_count": null,
   "metadata": {},
   "outputs": [],
   "source": [
    "num = 1\n",
    "\n",
    "while num < 5:\n",
    "    print(num)\n",
    "    num = num+1   "
   ]
  },
  {
   "cell_type": "markdown",
   "metadata": {},
   "source": [
    "- 반복을 적용할 대상이 정해진 경우 주로 for 문을 사용"
   ]
  },
  {
   "cell_type": "code",
   "execution_count": null,
   "metadata": {},
   "outputs": [],
   "source": [
    "items = [\"Red\", \"Blue\", \"Green\", \"Orange\"]      # items 는 네 개의 요소로 구성된 리스트\n",
    "\n",
    "for item in items:\n",
    "    print(item)"
   ]
  },
  {
   "cell_type": "markdown",
   "metadata": {},
   "source": [
    "#### 함수의 정의 및 사용"
   ]
  },
  {
   "cell_type": "code",
   "execution_count": null,
   "metadata": {},
   "outputs": [],
   "source": [
    "def sum(a,b):\n",
    "    return a+b\n",
    "\n",
    "result = sum(3, 4)\n",
    "\n",
    "print(result)"
   ]
  },
  {
   "cell_type": "markdown",
   "metadata": {},
   "source": [
    "### 2. 기본 자료형 (숫자 및 문자열) "
   ]
  },
  {
   "cell_type": "markdown",
   "metadata": {},
   "source": [
    "#### 자료형의 확인 (type 함수 사용)"
   ]
  },
  {
   "cell_type": "markdown",
   "metadata": {},
   "source": [
    "- 자료형은 주로 int, float, str 이 사용됨"
   ]
  },
  {
   "cell_type": "code",
   "execution_count": null,
   "metadata": {},
   "outputs": [],
   "source": [
    "a = 10\n",
    "b = 3.14\n",
    "c = \"Hello\"\n",
    "\n",
    "print(\"10:{}, 3.14:{}, Hello:{}\" .format(type(a), type(b), type(c)))"
   ]
  },
  {
   "cell_type": "markdown",
   "metadata": {},
   "source": [
    "- 참/거짓의 binary 값을 표현하기 위해 bool 자료형이 사용되기도 함"
   ]
  },
  {
   "cell_type": "code",
   "execution_count": null,
   "metadata": {},
   "outputs": [],
   "source": [
    "hungry = True\n",
    "sleepy = False\n",
    "\n",
    "print(type(hungry))\n",
    "\n",
    "print(not sleepy)\n",
    "print(hungry and sleepy)\n",
    "print(hungry or sleepy)"
   ]
  },
  {
   "cell_type": "markdown",
   "metadata": {},
   "source": [
    "#### 정수 연산"
   ]
  },
  {
   "cell_type": "code",
   "execution_count": null,
   "metadata": {},
   "outputs": [],
   "source": [
    "print(3 ** 2)      # 제곱\n",
    "print(11 / 3)      # 나누기\n",
    "print(11 % 3)      # 나누기 후 나머지만 출력 (modulo)\n",
    "print(11 // 3)     # 나누기 후 몫만 출력"
   ]
  },
  {
   "cell_type": "markdown",
   "metadata": {},
   "source": [
    "#### 문자열 사용 기본"
   ]
  },
  {
   "cell_type": "markdown",
   "metadata": {},
   "source": [
    "- 큰 따옴표 또는 작은 따옴표를 사용하여 문자열 표현"
   ]
  },
  {
   "cell_type": "code",
   "execution_count": null,
   "metadata": {},
   "outputs": [],
   "source": [
    "str1 = \"This is Kim's phone\"\n",
    "print(str1)\n",
    "\n",
    "str2 = 'I said \"stop!\"'\n",
    "print(str2)"
   ]
  },
  {
   "cell_type": "markdown",
   "metadata": {},
   "source": [
    "- 여러 행을 표현하는 방법 (개행문자 또는 3연속 큰따옴표 활용)"
   ]
  },
  {
   "cell_type": "code",
   "execution_count": null,
   "metadata": {},
   "outputs": [],
   "source": [
    " # 개행문자 사용\n",
    "str3 = \"Life is too short.\\nYou need python.\"      \n",
    "print(str3)\n",
    "\n",
    "\n",
    "# 3연속 큰따옴표 사용  \n",
    "str4 = \"\"\"                                                                            \n",
    "Life is too short.\n",
    "You need python.\n",
    "\"\"\"\n",
    "print(str4)"
   ]
  },
  {
   "cell_type": "markdown",
   "metadata": {},
   "source": [
    "#### 문자열 연결"
   ]
  },
  {
   "cell_type": "markdown",
   "metadata": {},
   "source": [
    "- 문자열의 단순 연결: \"+\" 기호 사용\n",
    "- 띄어쓰기로 구분한 문자열의 연결: \",\" 기호 사용"
   ]
  },
  {
   "cell_type": "code",
   "execution_count": null,
   "metadata": {},
   "outputs": [],
   "source": [
    "a = \"python\"\n",
    "b = \"is\"\n",
    "c = \"easy\"\n",
    "\n",
    "print(a+b+c)   # 문자열 단순 연결\n",
    "\n",
    "print(a,b,c)   # 문자열을 띄어쓰기로 구분하여 연결"
   ]
  },
  {
   "cell_type": "markdown",
   "metadata": {},
   "source": [
    "#### 출력 종료 문자 지정"
   ]
  },
  {
   "cell_type": "markdown",
   "metadata": {},
   "source": [
    "- 기본값은 출력 후 줄바꿈 문자 출력\n",
    "- 줄바꿈 문자 이외의 출력 종료 문자를 지정하기 위해 \"end\" 속성 활용"
   ]
  },
  {
   "cell_type": "code",
   "execution_count": null,
   "metadata": {},
   "outputs": [],
   "source": [
    "a = \"Python\"\n",
    "b = \"is\"\n",
    "c = \"easy\"\n",
    "\n",
    "print(a)            # 출력 후 줄바꿈 문자 출력 (기본값)\n",
    "print(b)\n",
    "print(c)\n",
    "\n",
    "print(a, end=\" \")   # 출력 후 줄바꿈 대신 공백 문자 출력\n",
    "print(b, end=\" \")\n",
    "print(c)\n",
    "\n",
    "print(a, end=\"/\")   # 출력 후 줄바꿈 대신 '/' 출력\n",
    "print(b, end=\"/\")\n",
    "print(c)\n",
    "\n",
    "print(a, end=\"\")    # 별도의 종료 문자 없음\n",
    "print(b, end=\"\")\n",
    "print(c)"
   ]
  },
  {
   "cell_type": "markdown",
   "metadata": {},
   "source": [
    "#### 출력 formatting"
   ]
  },
  {
   "cell_type": "markdown",
   "metadata": {},
   "source": [
    "- 연산자를 사용한 출력"
   ]
  },
  {
   "cell_type": "code",
   "execution_count": null,
   "metadata": {},
   "outputs": [],
   "source": [
    "print(\"=\" * 20)\n",
    "print(\"Python\" + \" is fun\")\n",
    "print(\"=\" * 20)"
   ]
  },
  {
   "cell_type": "markdown",
   "metadata": {},
   "source": [
    "- 자료형을 명시한 formatting"
   ]
  },
  {
   "cell_type": "code",
   "execution_count": null,
   "metadata": {},
   "outputs": [],
   "source": [
    "# 문자열 포매팅\n",
    "\n",
    "print(\"I eat %d apples.\" % 3)\n",
    "print(\"I eat %f apples.\" % 4)\n",
    "print(\"I eat %s apples.\" % \"five\")\n",
    "\n",
    "number = 7\n",
    "print(\"I eat %d apples.\" % number)\n",
    "print(\"I eat %d apples %s.\" %(5, \"today\"))"
   ]
  },
  {
   "cell_type": "markdown",
   "metadata": {},
   "source": [
    "- \".format( )\" 을 사용한 formatting"
   ]
  },
  {
   "cell_type": "code",
   "execution_count": null,
   "metadata": {},
   "outputs": [],
   "source": [
    "print(\"I eat {} apples {}\".format(8, \"today\"))\n",
    "print(\"I eat {1} {0} apples\".format(9, \"sweet\"))"
   ]
  },
  {
   "cell_type": "markdown",
   "metadata": {},
   "source": [
    "#### 문자열 인덱싱 및 슬라이싱"
   ]
  },
  {
   "cell_type": "markdown",
   "metadata": {},
   "source": [
    "- Indexing: 문자열의 특정 요소만 지정"
   ]
  },
  {
   "cell_type": "code",
   "execution_count": null,
   "metadata": {},
   "outputs": [],
   "source": [
    "str = \"Python is interesting\"\n",
    "\n",
    "print(str[0])\n",
    "print(str[1])\n",
    "print(str[-1])"
   ]
  },
  {
   "cell_type": "markdown",
   "metadata": {},
   "source": [
    "- slicing: 문자열의 특정 범위만 지정"
   ]
  },
  {
   "cell_type": "code",
   "execution_count": null,
   "metadata": {},
   "outputs": [],
   "source": [
    "str = \"Python is interesting\"\n",
    "\n",
    "print(str[0:5])\n",
    "print(str[:5])\n",
    "print(str[7:])\n",
    "print(str[-3:])\n",
    "print(str[:])"
   ]
  },
  {
   "cell_type": "markdown",
   "metadata": {},
   "source": [
    "#### 문자열 관련 주요 함수 (len, count, find, index, upper, lower, strip, replace, join, split)"
   ]
  },
  {
   "cell_type": "markdown",
   "metadata": {},
   "source": [
    "- len: 문자열의 길이"
   ]
  },
  {
   "cell_type": "code",
   "execution_count": null,
   "metadata": {},
   "outputs": [],
   "source": [
    "str = \"Hello World!\"\n",
    "\n",
    "print(len(str))"
   ]
  },
  {
   "cell_type": "markdown",
   "metadata": {},
   "source": [
    "- count: 문자열 내에서 특정 문자열이 나타난 횟수"
   ]
  },
  {
   "cell_type": "code",
   "execution_count": null,
   "metadata": {},
   "outputs": [],
   "source": [
    "str = \"  Python is the best choice \"\n",
    "\n",
    "print(str.count(\"b\"))\n",
    "print(str.count(\" \"))"
   ]
  },
  {
   "cell_type": "markdown",
   "metadata": {},
   "source": [
    "- find, index: 문자열 내에서 특정 문자열이 나타난 위치"
   ]
  },
  {
   "cell_type": "code",
   "execution_count": null,
   "metadata": {},
   "outputs": [],
   "source": [
    "str = \"  Python is the best choice \"\n",
    "\n",
    "print(str.find(\"b\"))\n",
    "print(str.find(\"k\"))      # find 함수는 매칭 값이 없으면 -1 반환\n",
    "\n",
    "print(str.index(\"b\"))  \n",
    "# print(str.index(\"k\"))   # index 함수는 매칭 값이 없으면 에러 발생"
   ]
  },
  {
   "cell_type": "markdown",
   "metadata": {},
   "source": [
    "- upper, lower: 문자열을 모두 대문자 또는 소문자로 변환"
   ]
  },
  {
   "cell_type": "code",
   "execution_count": null,
   "metadata": {},
   "outputs": [],
   "source": [
    "str = \"  Python is the best choice \"\n",
    "\n",
    "print(str.upper())\n",
    "print(str.lower())"
   ]
  },
  {
   "cell_type": "markdown",
   "metadata": {},
   "source": [
    "- strip: 문자열의 처음과 끝의 공백 문자 제거"
   ]
  },
  {
   "cell_type": "code",
   "execution_count": null,
   "metadata": {},
   "outputs": [],
   "source": [
    "str = \"  Python is the best choice \"\n",
    "\n",
    "print(str.strip())"
   ]
  },
  {
   "cell_type": "markdown",
   "metadata": {},
   "source": [
    "- replace: 문자열 내의 특정 문자열을 다른 문자열로 변경"
   ]
  },
  {
   "cell_type": "code",
   "execution_count": null,
   "metadata": {},
   "outputs": [],
   "source": [
    "str = \"  Python is the best choice \"\n",
    "\n",
    "print(str.replace(\"best\", \"worst\"))"
   ]
  },
  {
   "cell_type": "markdown",
   "metadata": {},
   "source": [
    "- join: 특정 구분자를 사용하여 문자열들을 결합\n",
    "- split: 특정 구분자를 사용하여 문자열을 분해"
   ]
  },
  {
   "cell_type": "code",
   "execution_count": null,
   "metadata": {},
   "outputs": [],
   "source": [
    "str1 = \":\".join(\"abcd\")\n",
    "print(str1)\n",
    "\n",
    "str2 = \":\".join([\"apple\", \"banana\", \"orange\"])\n",
    "print(str2)\n",
    "\n",
    "str3 = str2.split(\":\")\n",
    "print(str3)\n",
    "\n",
    "str = \"  Python is the best choice \"\n",
    "print(str.strip().split(\" \"))"
   ]
  },
  {
   "cell_type": "markdown",
   "metadata": {},
   "source": [
    "### 3. 리스트 자료형"
   ]
  },
  {
   "cell_type": "markdown",
   "metadata": {},
   "source": [
    "#### 리스트의 특징\n",
    "- 여러 값들의 모음 (상이한 자료형의 모음도 가능)\n",
    "- 대괄호로 묶어서 정의\n",
    "- 인덱싱 및 슬라이싱 가능\n",
    "- 다차원 자료의 표현 가능"
   ]
  },
  {
   "cell_type": "markdown",
   "metadata": {},
   "source": [
    "#### 리스트의 생성, 인덱싱, 슬라이싱"
   ]
  },
  {
   "cell_type": "markdown",
   "metadata": {},
   "source": [
    "![리스트 요소의 인덱싱](images/Part01-01.png)"
   ]
  },
  {
   "cell_type": "code",
   "execution_count": null,
   "metadata": {},
   "outputs": [],
   "source": [
    "a = [1, 2, \"life\", [3, \"long\"]]\n",
    "\n",
    "print(a)\n",
    "print(a[0])\n",
    "print(a[2])\n",
    "print(a[3])\n",
    "print(a[-1])\n",
    "print(a[3][1])\n",
    "\n",
    "b = [1, 2, 3, 4, 5]\n",
    "print(b[0:2])           # 0번째 이상, 2번째 미만\n",
    "print(b[:2])            # 처음부터, 2번째 미만\n",
    "print(b[-2:])           # 끝에서 두번째부터, 끝까지 "
   ]
  },
  {
   "cell_type": "markdown",
   "metadata": {},
   "source": [
    "#### 리스트 연산\n",
    "- \"+\" 연산: 두 개의 리스트를 순차적으로 연결함\n",
    "- \"*\" 연산: 하나의 리스트를 여러 번 반복함"
   ]
  },
  {
   "cell_type": "code",
   "execution_count": null,
   "metadata": {},
   "outputs": [],
   "source": [
    "a = [1, 2, 3]\n",
    "b = [4, 5, 6]\n",
    "\n",
    "print(a+b)\n",
    "print(a*2)"
   ]
  },
  {
   "cell_type": "markdown",
   "metadata": {},
   "source": [
    "#### 리스트 값의 수정, 변경, 삭제"
   ]
  },
  {
   "cell_type": "markdown",
   "metadata": {},
   "source": [
    "- 인덱싱을 이용하여 리스트에 새로운 값을 배정할 수 있음"
   ]
  },
  {
   "cell_type": "code",
   "execution_count": null,
   "metadata": {},
   "outputs": [],
   "source": [
    "a =[1, 2, 3, 4]\n",
    "a[2] = 0\n",
    "print(a)\n",
    "\n",
    "b = [1, 2, 3, 4]\n",
    "b[1] = [5, 6, 7]\n",
    "print(b)"
   ]
  },
  {
   "cell_type": "markdown",
   "metadata": {},
   "source": [
    "- 슬라이싱을 이용하여 특정 범위에 여러 값들을 새로 배정할 수 있음"
   ]
  },
  {
   "cell_type": "code",
   "execution_count": null,
   "metadata": {},
   "outputs": [],
   "source": [
    "c = [1, 2, 3, 4]      \n",
    "c[1:2] = [5, 6, 7]     # 1번째 이상, 2번째 미만의 범위에 5, 6, 7 배정.\n",
    "print(c)               # 인덱싱을 이용한 c[1] = [5, 6, 7] 과는 다름"
   ]
  },
  {
   "cell_type": "markdown",
   "metadata": {},
   "source": [
    "- 인덱싱을 사용하여 특정 요소 삭제 가능\n",
    "- 슬라이싱을 이용하여 전체 요소 삭제 가능"
   ]
  },
  {
   "cell_type": "code",
   "execution_count": null,
   "metadata": {},
   "outputs": [],
   "source": [
    "d = [1, 2, 3, 4]\n",
    "del d[1]\n",
    "print(d)\n",
    "\n",
    "e = [1, 2, 3, 4]\n",
    "e[:] = []\n",
    "print(e)"
   ]
  },
  {
   "cell_type": "markdown",
   "metadata": {},
   "source": [
    "#### 리스트의 복사"
   ]
  },
  {
   "cell_type": "markdown",
   "metadata": {},
   "source": [
    "![얕은 복사와 깊은 복사](images/Part01-02.png)"
   ]
  },
  {
   "cell_type": "markdown",
   "metadata": {},
   "source": [
    "- 얕은 복사: 주소를 복사하여 동일한 객체를 가리킴"
   ]
  },
  {
   "cell_type": "code",
   "execution_count": null,
   "metadata": {},
   "outputs": [],
   "source": [
    "a = [1, 2, 3]\n",
    "b = a            # 동일한 리스트를 가리킴\n",
    "\n",
    "a[0] = 4         # 리스트 a에서만 값을 변경함 \n",
    "print(a)\n",
    "print(b)         # 리스트 b의 값을 확인"
   ]
  },
  {
   "cell_type": "markdown",
   "metadata": {},
   "source": [
    "- 깊은 복사: 리스트의 값을 복사하여 새로운 객체를 생성함"
   ]
  },
  {
   "cell_type": "code",
   "execution_count": null,
   "metadata": {},
   "outputs": [],
   "source": [
    "c = [1, 2, 3]\n",
    "d = c[:]          # 값만 복사하여 새로운 리스트 생성\n",
    "\n",
    "c[0] = 4          # 리스트 c에서만 값을 변경함 \n",
    "print(c)\n",
    "print(d)          # 리스트 d의 값을 확인"
   ]
  },
  {
   "cell_type": "markdown",
   "metadata": {},
   "source": [
    "#### 리스트 함수 (len, append, insert, pop, remove, reverse, sort, index, count, extend)"
   ]
  },
  {
   "cell_type": "markdown",
   "metadata": {},
   "source": [
    "- len: 리스트의 크기(길이) 출력"
   ]
  },
  {
   "cell_type": "code",
   "execution_count": null,
   "metadata": {},
   "outputs": [],
   "source": [
    "a = [1, 2, 3]\n",
    "print(len(a))"
   ]
  },
  {
   "cell_type": "markdown",
   "metadata": {},
   "source": [
    "- append: 새로운 요소 하나를 리스트의 맨 뒤에 추가"
   ]
  },
  {
   "cell_type": "code",
   "execution_count": null,
   "metadata": {},
   "outputs": [],
   "source": [
    "a = [1, 2, 3]\n",
    "print(a)\n",
    "\n",
    "a.append(4)          \n",
    "print(a)\n",
    "\n",
    "a.append([5, \"new\"])\n",
    "print(a)"
   ]
  },
  {
   "cell_type": "markdown",
   "metadata": {},
   "source": [
    "- insert: 새로운 요소 하나를 지정한 위치에 추가 (위치, 값)"
   ]
  },
  {
   "cell_type": "code",
   "execution_count": null,
   "metadata": {},
   "outputs": [],
   "source": [
    "a = [1, 2, 3]\n",
    "print(a)\n",
    "\n",
    "a.insert(1, 100)        \n",
    "print(a)"
   ]
  },
  {
   "cell_type": "markdown",
   "metadata": {},
   "source": [
    "- pop: 리스트의 맨 마지막 요소를 출력하면서 제거"
   ]
  },
  {
   "cell_type": "code",
   "execution_count": null,
   "metadata": {},
   "outputs": [],
   "source": [
    "a = [1, 2, 3]\n",
    "print(a)\n",
    "\n",
    "b = a.pop()               \n",
    "print(b)\n",
    "print(a)"
   ]
  },
  {
   "cell_type": "markdown",
   "metadata": {},
   "source": [
    "- reverse: 리스트를 뒤집음 (역순으로 정렬이 아니라 단순히 순서를 뒤집음)"
   ]
  },
  {
   "cell_type": "markdown",
   "metadata": {},
   "source": [
    "- sort: 리스트 정렬"
   ]
  },
  {
   "cell_type": "markdown",
   "metadata": {},
   "source": [
    "- 리스트를 역순으로 정렬하려면 sort 실행 후 reverse 실행"
   ]
  },
  {
   "cell_type": "code",
   "execution_count": null,
   "metadata": {},
   "outputs": [],
   "source": [
    "a = [2, 3, 1]\n",
    "print(a)\n",
    "\n",
    "a.reverse()               \n",
    "print(a)\n",
    "\n",
    "a.sort()\n",
    "print(a)\n",
    "\n",
    "a.reverse()                  \n",
    "print(a)"
   ]
  },
  {
   "cell_type": "markdown",
   "metadata": {},
   "source": [
    "- count: 리스트에서 해당 값을 갖는 요소의 개수 반환\n",
    "- index: 리스트에서 해당 값을 갖는 요소의 위치 반환 (해당 값이 여러 개인 경우 가장 먼저 나오는 요소의 위치 반환)\n",
    "- remove: 리스트에서 해당 값을 갖는 요소 제거 (해당 값이 여러 개인 경우 가장 먼저 나오는 요소 제거)"
   ]
  },
  {
   "cell_type": "code",
   "execution_count": null,
   "metadata": {},
   "outputs": [],
   "source": [
    "a = [1, 100, 2, 3, 100]\n",
    "print(a)\n",
    "\n",
    "print(a.count(100))       # 해당 값의 개수 반환\n",
    "\n",
    "print(a.index(100))       # 해당 값의 첫 번째 위치 반환 (존재하지 않는 값이면 에러 발생)\n",
    "\n",
    "a.remove(100)                \n",
    "print(a)"
   ]
  },
  {
   "cell_type": "markdown",
   "metadata": {},
   "source": [
    "- extend: 리스트 확장 (리스트 덧셈과 동일)"
   ]
  },
  {
   "cell_type": "code",
   "execution_count": null,
   "metadata": {},
   "outputs": [],
   "source": [
    "a = [1, 2, 3, 4]\n",
    "a.extend([50, 60])        \n",
    "print(a)\n",
    "\n",
    "c = [1, 2, 3, 4]\n",
    "d = [50, 60]\n",
    "print(c+d)"
   ]
  },
  {
   "cell_type": "markdown",
   "metadata": {},
   "source": [
    "### 4. 튜플 자료형"
   ]
  },
  {
   "cell_type": "markdown",
   "metadata": {},
   "source": [
    "#### 튜플의 특징\n",
    "- 여러 값들의 모음 (상이한 자료형의 모음도 가능)\n",
    "- 소괄호로 묶어서 정의\n",
    "- 리스트와 달리 요소의 삭제 및 변경 불가 (튜플의 삭제 및 변경 시도시 에러 발생)"
   ]
  },
  {
   "cell_type": "code",
   "execution_count": null,
   "metadata": {},
   "outputs": [],
   "source": [
    "a = (1, 2, 'a', 'b')\n",
    "\n",
    "# a[3] = 'new'"
   ]
  },
  {
   "cell_type": "markdown",
   "metadata": {},
   "source": [
    "#### 인덱싱 및 슬라이싱\n",
    "- 리스트와 동일한 방식으로 수행"
   ]
  },
  {
   "cell_type": "code",
   "execution_count": null,
   "metadata": {},
   "outputs": [],
   "source": [
    "a = (1, 2, \"life\", (3, \"long\"))\n",
    "\n",
    "print(a)\n",
    "print(a[0])\n",
    "print(a[2])\n",
    "print(a[3])\n",
    "print(a[-1])\n",
    "print(a[3][1])\n",
    "\n",
    "b = (1, 2, 3, 4, 5)\n",
    "print(b[0:2])\n",
    "print(b[:2])\n",
    "print(b[-2:])"
   ]
  },
  {
   "cell_type": "markdown",
   "metadata": {},
   "source": [
    "#### 튜플 연산 (리스트와 동일)\n",
    "- \"+\" 연산: 두 개의 튜플을 순차적으로 연결함\n",
    "- \"*\" 연산: 하나의 튜플을 여러 번 반복함"
   ]
  },
  {
   "cell_type": "code",
   "execution_count": null,
   "metadata": {},
   "outputs": [],
   "source": [
    "a = (1, 2, 3)\n",
    "b = (4, 5, 6)\n",
    "\n",
    "print(a+b)\n",
    "print(a*2)"
   ]
  },
  {
   "cell_type": "markdown",
   "metadata": {},
   "source": [
    "### 5. 집합 자료형"
   ]
  },
  {
   "cell_type": "markdown",
   "metadata": {},
   "source": [
    "#### 집합의 특징\n",
    "- 여러 값들의 모음 (상이한 자료형의 모음도 가능)\n",
    "- set()을 명시하여 정의\n",
    "- 중복을 허용하지 않으며 중복이 있는 경우 자동으로 제거됨\n",
    "- 순서가 무의미하며, 따라서 인덱싱 및 슬라이싱 불가"
   ]
  },
  {
   "cell_type": "markdown",
   "metadata": {},
   "source": [
    "#### 집합의 생성"
   ]
  },
  {
   "cell_type": "code",
   "execution_count": null,
   "metadata": {},
   "outputs": [],
   "source": [
    "s1 = set([1, 2, 3, 1, 2])\n",
    "print(s1)"
   ]
  },
  {
   "cell_type": "markdown",
   "metadata": {},
   "source": [
    "#### 집합 연산 (연산자 또는 함수 사용)\n",
    "- 교집합: 두 집합에 공통으로 포함된 요소 반환\n",
    "- 합집합: 두 집합 중 한 곳에라도 포함된 요소 반환\n",
    "- 차집합: 앞의 집합에는 포함되고, 뒤의 집합에는 포함되지 않은 요소 반환"
   ]
  },
  {
   "cell_type": "code",
   "execution_count": null,
   "metadata": {},
   "outputs": [],
   "source": [
    "s1 = set([1, 2, 3, 4, 5, 6])\n",
    "s2 = set([4, 5, 6, 7, 8, 9])\n",
    "\n",
    "print(\"교집합\")\n",
    "print(s1 & s2)\n",
    "print(s1.intersection(s2))\n",
    "\n",
    "print(\"합집합\")\n",
    "print(s1 | s2)\n",
    "print(s1.union(s2))\n",
    "\n",
    "print(\"차집합\")\n",
    "print(s1 - s2)\n",
    "print(s1.difference(s2))"
   ]
  },
  {
   "cell_type": "markdown",
   "metadata": {},
   "source": [
    "#### 집합 관련 함수\n",
    "- add: 요소 하나 추가\n",
    "- update: 요소 하나 또는 여러 개 추가\n",
    "- remove: 요소 하나 제거"
   ]
  },
  {
   "cell_type": "code",
   "execution_count": null,
   "metadata": {},
   "outputs": [],
   "source": [
    "s1 = set([1, 2, 3])\n",
    "print(s1)\n",
    "\n",
    "s1.add(4)   \n",
    "print(s1)\n",
    "\n",
    "s1.update([5, 6, 7])   \n",
    "print(s1)\n",
    "\n",
    "s1.update([8])\n",
    "print(s1)\n",
    "\n",
    "s1.remove(1)   \n",
    "print(s1)"
   ]
  },
  {
   "cell_type": "markdown",
   "metadata": {},
   "source": [
    "#### 집합의 변환 (인덱싱을 위해)\n",
    "- 집합에 대한 인덱싱 시도시 에러 발생\n",
    "- 리스트 또는 튜플로 변환 후 인덱싱 가능"
   ]
  },
  {
   "cell_type": "code",
   "execution_count": null,
   "metadata": {},
   "outputs": [],
   "source": [
    "s = set([1, 2, 3])\n",
    "# print(s[0])                     # 인덱싱이 불가능하므로 에러 발생\n",
    "\n",
    "l = list(s)\n",
    "print(l)\n",
    "print(l[0])\n",
    "\n",
    "t = tuple(s)\n",
    "print(t)\n",
    "print(t[0])"
   ]
  },
  {
   "cell_type": "markdown",
   "metadata": {},
   "source": [
    "### 6. 딕셔너리 자료형"
   ]
  },
  {
   "cell_type": "markdown",
   "metadata": {},
   "source": [
    "#### 딕셔너리의 특징\n",
    "- 여러 값들의 모음 \n",
    "- 중괄호로 묶어서 정의\n",
    "- Key와 Value의 쌍으로 구성되며 Key는 중복 불가함 \n",
    "- 순서가 무의미하기 때문에 인덱싱 및 슬라이싱 불가"
   ]
  },
  {
   "cell_type": "markdown",
   "metadata": {},
   "source": [
    "![딕셔너리](images/Part01-02b.png)"
   ]
  },
  {
   "cell_type": "markdown",
   "metadata": {},
   "source": [
    "#### Key 값을 이용한 Value의 조회, 추가, 변경, 삭제"
   ]
  },
  {
   "cell_type": "code",
   "execution_count": null,
   "metadata": {},
   "outputs": [],
   "source": [
    "score = {'Kim': 90, 'Lee': 80, 'Choi': 70}      # 딕셔너리 생성\n",
    "print(score['Lee'])                             # Key를 이용한 Value 조회 (해당 Key가 없을 땐 에러 발생)\n",
    "\n",
    "score['Park'] = 60                              # Key를 이용한 새로운 요소 추가\n",
    "print(score)\n",
    "\n",
    "score['Kim'] = 100                              # Key를 이용한 기존 요소의 값 변경\n",
    "print(score)\n",
    "\n",
    "del score['Choi']                               # Key를 이용한 기존 요소 삭제\n",
    "print(score)"
   ]
  },
  {
   "cell_type": "markdown",
   "metadata": {},
   "source": [
    "#### 딕셔너리의 리스트 (주로 사용되는 형태)"
   ]
  },
  {
   "cell_type": "code",
   "execution_count": null,
   "metadata": {},
   "outputs": [],
   "source": [
    "students = [{'id':11, 'name': 'Kim', 'hobby':['soccer', 'programming']},\n",
    "            {'id':22, 'name': 'Lee', 'hobby':'music'},\n",
    "            {'id':33, 'name': 'Lee'}]\n",
    "\n",
    "print(students[0])\n",
    "\n",
    "print(students[0]['name'])"
   ]
  },
  {
   "cell_type": "markdown",
   "metadata": {},
   "source": [
    "#### 딕셔너리 관련 함수\n",
    "- keys: 딕셔너리의 모든 키를 출력\n",
    "- values: 딕셔너리의 모든 값을 출력\n",
    "- items: 딕셔너리의 모든 (키, 값) 쌍을 출력\n",
    "- clear: 딕셔너리의 모든 요소 삭제"
   ]
  },
  {
   "cell_type": "code",
   "execution_count": null,
   "metadata": {},
   "outputs": [],
   "source": [
    "score = {'Kim': 90, 'Lee': 80, 'Choi': 70}\n",
    "print(score)\n",
    "print(score.keys())\n",
    "print(score.values())\n",
    "print(score.items())\n",
    "\n",
    "score.clear()\n",
    "print(score)"
   ]
  },
  {
   "cell_type": "markdown",
   "metadata": {},
   "source": [
    "- in: 해당 Key가 딕셔너리에 존재하는지 여부 확인 (True/False)\n",
    "- get: 해당 Key의 Value 반환"
   ]
  },
  {
   "cell_type": "code",
   "execution_count": null,
   "metadata": {},
   "outputs": [],
   "source": [
    "score = {'Kim': 90, 'Lee': 80, 'Choi': 70}\n",
    "\n",
    "print('Kim' in score)\n",
    "print('Park' in score)\n",
    "print(\"\")\n",
    "\n",
    "print(score.get('Lee'))   \n",
    "print(score['Lee'])           # score.get() 과 동일\n",
    "\n",
    "# print(score['Park'])        # 해당 키가 없을 때 에러 발생\n",
    "print(score.get('Park'))      # 해당 키가 없을 때 'None' 반환\n",
    "print(score.get('Park', 'NotFound'))   # 해당 키가 없을 때 반환할 메시지 지정 가능"
   ]
  },
  {
   "cell_type": "markdown",
   "metadata": {},
   "source": [
    "#### 딕셔너리의 변환 (인덱싱을 위해)\n",
    "- 딕셔너리에 대한 인덱싱 시도시 에러 발생\n",
    "- 리스트 또는 튜플로 변환 후 인덱싱 가능"
   ]
  },
  {
   "cell_type": "code",
   "execution_count": null,
   "metadata": {},
   "outputs": [],
   "source": [
    "score = {'Kim': 90, 'Lee': 80, 'Choi': 70}\n",
    "# print(score[0])                             # 인덱싱이 불가능하므로 에러 발생\n",
    "\n",
    "l = list(score.items())\n",
    "print(l)\n",
    "print(l[0])\n",
    "\n",
    "t = tuple(score.items())\n",
    "print(t)\n",
    "print(t[0])"
   ]
  },
  {
   "cell_type": "markdown",
   "metadata": {},
   "source": [
    "### 7. if 조건문"
   ]
  },
  {
   "cell_type": "markdown",
   "metadata": {},
   "source": [
    "#### 조건을 사용한 분기\n",
    "- 조건이 만족되는 경우에만 해당 문장을 수행함"
   ]
  },
  {
   "cell_type": "code",
   "execution_count": null,
   "metadata": {},
   "outputs": [],
   "source": [
    "grade = input(\"Please input your grade: A/B/C/D/F \\n\")\n",
    "\n",
    "if grade == 'A':\n",
    "    print(\"Excellent\")"
   ]
  },
  {
   "cell_type": "markdown",
   "metadata": {},
   "source": [
    "#### 다중 if 문의 구성 \n",
    "- if ~else 만으로 구성 (else 문 내에서 다시 분기 가능)"
   ]
  },
  {
   "cell_type": "code",
   "execution_count": null,
   "metadata": {},
   "outputs": [],
   "source": [
    "grade = input(\"Please input your grade: A/B/C/D/F \\n\")\n",
    "\n",
    "if grade == 'A':\n",
    "    print(\"Excellent\")\n",
    "\n",
    "else:\n",
    "    if grade == 'B':\n",
    "        print(\"Not Bad\")\n",
    "    else:\n",
    "        print(\"Bad\")"
   ]
  },
  {
   "cell_type": "markdown",
   "metadata": {},
   "source": [
    "- if ~ elif ~ else 로 구성"
   ]
  },
  {
   "cell_type": "code",
   "execution_count": null,
   "metadata": {},
   "outputs": [],
   "source": [
    "grade = input(\"Please input your grade: A/B/C/D/F \\n\")\n",
    "\n",
    "if grade == 'A':\n",
    "    print(\"Excellent\")\n",
    "\n",
    "elif grade == 'B':\n",
    "    print(\"Not Bad\")\n",
    "else:\n",
    "    print(\"Bad\")"
   ]
  },
  {
   "cell_type": "markdown",
   "metadata": {},
   "source": [
    "### 8. while 순환문"
   ]
  },
  {
   "cell_type": "markdown",
   "metadata": {},
   "source": [
    "#### while 순환문의 특징\n",
    "- 특정 조건이 만족되면 해당 루프를 계속 수행\n",
    "- 반복 횟수가 알려진 경우 주로 while 문을 사용"
   ]
  },
  {
   "cell_type": "code",
   "execution_count": null,
   "metadata": {},
   "outputs": [],
   "source": [
    "count = 0\n",
    "\n",
    "while count < 10:\n",
    "    count = count + 1\n",
    "    print(\"반복: {}\" .format(count))"
   ]
  },
  {
   "cell_type": "markdown",
   "metadata": {},
   "source": [
    "- break: 이후 부분을 무시하고 루프를 빠져나감"
   ]
  },
  {
   "cell_type": "code",
   "execution_count": null,
   "metadata": {},
   "outputs": [],
   "source": [
    "count = 0\n",
    "\n",
    "while count < 10:\n",
    "    count = count + 1\n",
    "    \n",
    "    if count == 5:\n",
    "        break\n",
    "    \n",
    "    print(\"반복: {}\" .format(count))\n"
   ]
  },
  {
   "cell_type": "markdown",
   "metadata": {},
   "source": [
    "- continue: 이후 부분을 무시하고 다음 번 반복으로 진행"
   ]
  },
  {
   "cell_type": "code",
   "execution_count": null,
   "metadata": {},
   "outputs": [],
   "source": [
    "count = 0\n",
    "\n",
    "while count < 10:\n",
    "    count = count + 1\n",
    "    \n",
    "    if count == 5:\n",
    "        continue\n",
    "    \n",
    "    print(\"반복: {}\" .format(count))\n"
   ]
  },
  {
   "cell_type": "markdown",
   "metadata": {},
   "source": [
    "### 9. for 반복문"
   ]
  },
  {
   "cell_type": "markdown",
   "metadata": {},
   "source": [
    "#### for 반복문의 특징\n",
    "- 반복을 적용할 대상이 정해진 경우 주로 for 문을 사용\n",
    "- 실제로는 range 또는 리스트와 함께 자주 사용됨"
   ]
  },
  {
   "cell_type": "markdown",
   "metadata": {},
   "source": [
    "- range()를 사용하여 반복 횟수를 지정한 for 문 "
   ]
  },
  {
   "cell_type": "code",
   "execution_count": null,
   "metadata": {},
   "outputs": [],
   "source": [
    "sum = 0\n",
    "\n",
    "for i in range(0, 10):          # 0 이상 10 미만, 즉 0 ~ 9 까지 수행\n",
    "    sum = sum + i\n",
    "    print(i, sum)"
   ]
  },
  {
   "cell_type": "markdown",
   "metadata": {},
   "source": [
    "- break: 이후 부분을 무시하고 루프를 빠져나감"
   ]
  },
  {
   "cell_type": "code",
   "execution_count": null,
   "metadata": {},
   "outputs": [],
   "source": [
    "sum = 0\n",
    "\n",
    "for i in range(0, 10):          \n",
    "    sum = sum + i\n",
    "\n",
    "    if i == 5:\n",
    "        break\n",
    "    \n",
    "    print(i, sum)"
   ]
  },
  {
   "cell_type": "markdown",
   "metadata": {},
   "source": [
    "- continue: 이후 부분을 무시하고 다음 번 반복으로 진행"
   ]
  },
  {
   "cell_type": "code",
   "execution_count": null,
   "metadata": {},
   "outputs": [],
   "source": [
    "sum = 0\n",
    "\n",
    "for i in range(0, 10):          \n",
    "    sum = sum + i\n",
    "\n",
    "    if i == 5:\n",
    "        continue\n",
    "    \n",
    "    print(i, sum)"
   ]
  },
  {
   "cell_type": "markdown",
   "metadata": {},
   "source": [
    "#### 리스트를 사용하여 반복 대상을 지정한 for 문"
   ]
  },
  {
   "cell_type": "code",
   "execution_count": null,
   "metadata": {},
   "outputs": [],
   "source": [
    "names = ['kim', 'lee', 'choi', 'park']\n",
    "\n",
    "for name in names:\n",
    "    print(name)"
   ]
  },
  {
   "cell_type": "markdown",
   "metadata": {},
   "source": [
    "#### (D.I.Y) Part01 - 01\n",
    "- for 문을 사용하여 다음과 같이 각 학생의 id와 hobby를 출력하시오."
   ]
  },
  {
   "cell_type": "markdown",
   "metadata": {},
   "source": [
    "![딕셔너리의 리스트에 for 문을 적용한 예](images/Part01-03.png)"
   ]
  },
  {
   "cell_type": "code",
   "execution_count": null,
   "metadata": {},
   "outputs": [],
   "source": [
    "students = [{'id':11, 'name': 'Kim', 'hobby':['soccer', 'programming']},\n",
    "            {'id':22, 'name': 'Lee', 'hobby':'music'},\n",
    "            {'id':33, 'name': 'Lee'}]\n",
    "\n",
    "# 여기에 for문 작성"
   ]
  },
  {
   "cell_type": "markdown",
   "metadata": {},
   "source": [
    "#### zip: 반복 대상이 둘 이상인 경우 사용\n",
    "- 각 요소의 쌍을 사용하여 반복 수행\n",
    "- 각 리스트 요소의 수가 동일한 경우 주로 사용\n",
    "- 리스트의 요소의 수가 상이한 경우, 요소 수가 적은 리스트에 맞추어 수행됨"
   ]
  },
  {
   "cell_type": "code",
   "execution_count": null,
   "metadata": {},
   "outputs": [],
   "source": [
    "names = ['kim', 'lee', 'choi', 'park']\n",
    "scores = [90, 80, 70, 60]\n",
    "\n",
    "for name, score in zip (names, scores):\n",
    "    print(name, score)"
   ]
  },
  {
   "cell_type": "markdown",
   "metadata": {},
   "source": [
    "#### enumerate: 반복 대상과 반복 횟수를 함께 출력\n",
    "- 반복 대상에 대응되는 변수에 앞서서 횟수를 받기 위한 변수 지정\n",
    "- 주로 i 를 사용하여 반복 횟수 출력"
   ]
  },
  {
   "cell_type": "code",
   "execution_count": null,
   "metadata": {},
   "outputs": [],
   "source": [
    "names = ['kim', 'lee', 'choi', 'park']\n",
    "\n",
    "for i, name in enumerate(names):\n",
    "    print(i, name)"
   ]
  },
  {
   "cell_type": "markdown",
   "metadata": {},
   "source": [
    "#### 리스트 내포\n",
    "- 리스트 내에 for 문을 포함시켜서 코드를 단축하는 것"
   ]
  },
  {
   "cell_type": "code",
   "execution_count": null,
   "metadata": {},
   "outputs": [],
   "source": [
    "a = [1, 2, 3, 4, 5, 6 ,7, 8]\n",
    "result1 = []\n",
    "result2 = []\n",
    "\n",
    "for num in a:                         # 일반 표현  \n",
    "    result1.append(num*2)\n",
    "print(result1)\n",
    "\n",
    "result2 = [num*2 for num in a]       # 리스트 내포\n",
    "print(result2)\n"
   ]
  },
  {
   "cell_type": "markdown",
   "metadata": {},
   "source": [
    "- for문 뿐 아니라 if 문도 내포 가능"
   ]
  },
  {
   "cell_type": "code",
   "execution_count": null,
   "metadata": {},
   "outputs": [],
   "source": [
    "a = [1, 2, 3, 4, 5, 6 ,7, 8]\n",
    "result1 = []\n",
    "result2 = []\n",
    "\n",
    "for num in a:                         # 일반 표현  \n",
    "    if num%2 == 0:\n",
    "        result1.append(num*2)\n",
    "print(result1)\n",
    "\n",
    "result2 = [num*2 for num in a if num%2 == 0]       # 리스트 내포\n",
    "print(result2)"
   ]
  },
  {
   "cell_type": "markdown",
   "metadata": {},
   "source": [
    "### 10. 함수"
   ]
  },
  {
   "cell_type": "markdown",
   "metadata": {},
   "source": [
    "#### 함수의 특성\n",
    "- 자주 사용되는 기능 (연산의 집합)을 하나의 묶음으로 정의하고 이름을 부여함\n",
    "- def를 이용하여 함수를 선언하고 return을 이용하여 결과값을 반환함\n",
    "- 반환값이 없는 함수도 있으며, 반환값이 둘 이상인 경우 하나의 튜플로 반환함"
   ]
  },
  {
   "cell_type": "markdown",
   "metadata": {},
   "source": [
    "- 매개변수도 없고, 반환값도 없는 함수의 예"
   ]
  },
  {
   "cell_type": "code",
   "execution_count": null,
   "metadata": {},
   "outputs": [],
   "source": [
    "def say_hello():                # 함수의 정의\n",
    "    print(\"Hello!\")\n",
    "\n",
    "say_hello()                     # 함수의 사용"
   ]
  },
  {
   "cell_type": "markdown",
   "metadata": {},
   "source": [
    "- 매개변수가 있고, 반환값이 없는 함수의 예"
   ]
  },
  {
   "cell_type": "code",
   "execution_count": null,
   "metadata": {},
   "outputs": [],
   "source": [
    "def say_hello(count):              \n",
    "    for i in range(0, count):\n",
    "        print(\"Hello!\")\n",
    "        \n",
    "say_hello(3)                        "
   ]
  },
  {
   "cell_type": "markdown",
   "metadata": {},
   "source": [
    "- 두 개의 매개변수를 사용하고, 반환값이 하나인 함수의 예"
   ]
  },
  {
   "cell_type": "code",
   "execution_count": null,
   "metadata": {},
   "outputs": [],
   "source": [
    "def sum(a,b):\n",
    "    return a+b\n",
    "\n",
    "result = sum(2, 3)\n",
    "print(result)"
   ]
  },
  {
   "cell_type": "markdown",
   "metadata": {},
   "source": [
    "- 반환값이 둘인 함수의 예"
   ]
  },
  {
   "cell_type": "code",
   "execution_count": null,
   "metadata": {},
   "outputs": [],
   "source": [
    "def add_sub(a, b):\n",
    "    add = a + b\n",
    "    sub = a - b\n",
    "    return add, sub              # 반환값이 둘 이상인 경우 하나의 튜플로 묶어서 반환\n",
    "\n",
    "result = add_sub(5, 3)\n",
    "print(result, type(result))\n",
    "\n",
    "add, sub = add_sub(5, 3)\n",
    "print(add, sub)"
   ]
  },
  {
   "cell_type": "markdown",
   "metadata": {},
   "source": [
    "- 함수의 매개변수로 리스트를 사용하는 예"
   ]
  },
  {
   "cell_type": "code",
   "execution_count": null,
   "metadata": {},
   "outputs": [],
   "source": [
    "def sum(para):\n",
    "    result = 0\n",
    "    for i in para:\n",
    "        result = result + i\n",
    "    return result\n",
    "\n",
    "numbers = [1, 2, 3, 4]\n",
    "total = sum(numbers)          # 함수의 입력값으로 리스트 전달\n",
    "print(total)"
   ]
  },
  {
   "cell_type": "markdown",
   "metadata": {},
   "source": [
    "### 11. 클래스"
   ]
  },
  {
   "cell_type": "markdown",
   "metadata": {},
   "source": [
    "#### 클래스의 생성\n",
    "- class 키워드를 이용하여 새로운 클래스 정의\n",
    " - 해당 클래스 타입의 인스턴스를 여러 개 생성할 수 있음\n",
    "- def 키워드를 이용하여 멤버 함수 정의\n",
    "- __init__() 로 초기화 함수 정의\n",
    "- 초기화 함수 및 모든 멤버 함수에는 self를 첫 번째 인수로 사용해야 함"
   ]
  },
  {
   "cell_type": "code",
   "execution_count": null,
   "metadata": {},
   "outputs": [],
   "source": [
    "class Man:\n",
    "    def __init__(self, name, age):\n",
    "        self.name = name\n",
    "        self.age = age\n",
    "        print(\"Initialized!\")\n",
    "        \n",
    "    def hello(self):\n",
    "        print(\"Hello \" + self.name + \"!\")\n",
    "    \n",
    "    def introduce(self):\n",
    "        print(\"{} is {} years old.\" .format(self.name, self.age))\n",
    "\n",
    "m1 = Man(\"David\", 20)           # Man 클래스의 인스턴스 m1 생성\n",
    "m1.hello()\n",
    "m1.introduce()\n",
    "\n",
    "print(\" \")\n",
    "\n",
    "m2 = Man(\"John\", 25)            # Man 클래스의 인스턴스 m2 생성\n",
    "m2.hello()\n",
    "m2.introduce()"
   ]
  },
  {
   "cell_type": "markdown",
   "metadata": {},
   "source": [
    "### 12. 파일 입출력"
   ]
  },
  {
   "cell_type": "markdown",
   "metadata": {},
   "source": [
    "#### 파일 입출력은 open 함수를 통해 이루어짐\n",
    "- \"w\": 쓰기 모드, 파일이 없으면 새로 생성\n",
    "- \"r\": 읽기 모드, 파일이 없으면 에러\n",
    "- \"a\": 추가 모드, 파일이 없으면 새로 생성"
   ]
  },
  {
   "cell_type": "markdown",
   "metadata": {},
   "source": [
    "#### 파일 쓰기\n",
    "- 파일을 모두 기록한 후 close()로 닫아야 함"
   ]
  },
  {
   "cell_type": "code",
   "execution_count": null,
   "metadata": {},
   "outputs": [],
   "source": [
    "out_f = open(\"./dataset/newfile1.txt\", \"w\", encoding = \"utf-8\")\n",
    "\n",
    "for i in range (1, 11):\n",
    "    data = \"{} 번째 줄입니다.\\n\" .format(i)\n",
    "    out_f.write(data)                           \n",
    "\n",
    "out_f.close()                                 "
   ]
  },
  {
   "cell_type": "markdown",
   "metadata": {},
   "source": [
    "- with 문을 사용하여 open 블럭이 끝날 때 자동으로 파일을 닫을 수 있음\n",
    " - 위의 코드와 동일한 동작 수행"
   ]
  },
  {
   "cell_type": "code",
   "execution_count": null,
   "metadata": {},
   "outputs": [],
   "source": [
    "with open(\"./dataset/newfile2.txt\", \"w\", encoding = \"utf-8\") as out_f:\n",
    "    for i in range (1, 11):\n",
    "        data = \"{} 번째 줄입니다.\\n\" .format(i)\n",
    "        out_f.write(data)"
   ]
  },
  {
   "cell_type": "markdown",
   "metadata": {},
   "source": [
    "#### 파일 읽기\n",
    "- readline(): 파일을 한 행씩 읽음"
   ]
  },
  {
   "cell_type": "code",
   "execution_count": null,
   "metadata": {},
   "outputs": [],
   "source": [
    "with open(\"./dataset/newfile1.txt\", \"r\", encoding = \"utf-8\") as in_f:\n",
    "    while True:\n",
    "        line = in_f.readline()\n",
    "        \n",
    "        if not line: \n",
    "            break\n",
    "            \n",
    "        print(line)"
   ]
  },
  {
   "cell_type": "markdown",
   "metadata": {},
   "source": [
    "- readlines(): 파일 전체를 읽고, 각 행을 요소로 갖는 리스트로 반환"
   ]
  },
  {
   "cell_type": "code",
   "execution_count": null,
   "metadata": {},
   "outputs": [],
   "source": [
    "with open(\"./dataset/newfile1.txt\", \"r\", encoding = \"utf-8\") as in_f:\n",
    "    lines = in_f.readlines()\n",
    "    print(lines)\n",
    "    \n",
    "    print(\" \")\n",
    "    \n",
    "    for line in lines:\n",
    "        print(line)"
   ]
  },
  {
   "cell_type": "markdown",
   "metadata": {},
   "source": [
    "- read(): 파일 전체를 읽고, 내용 전체를 하나의 문자열로 반환"
   ]
  },
  {
   "cell_type": "code",
   "execution_count": null,
   "metadata": {},
   "outputs": [],
   "source": [
    "with open(\"./dataset/newfile1.txt\", \"r\", encoding = \"utf-8\") as in_f:\n",
    "    lines = in_f.read()   \n",
    "    print(lines)  "
   ]
  },
  {
   "cell_type": "markdown",
   "metadata": {},
   "source": [
    "#### 파일에 내용 추가하기"
   ]
  },
  {
   "cell_type": "code",
   "execution_count": null,
   "metadata": {},
   "outputs": [],
   "source": [
    "with open(\"./dataset/newfile1.txt\", \"r\", encoding = \"utf-8\") as in_f:\n",
    "    lines = in_f.read()   \n",
    "    print(lines) \n",
    "\n",
    "with open(\"./dataset/newfile1.txt\", \"a\", encoding = \"utf-8\") as add_f:\n",
    "    for i in range (11, 21):\n",
    "        data = \"{} 번째 줄입니다.\\n\" .format(i)\n",
    "        add_f.write(data)\n",
    "        \n",
    "with open(\"./dataset/newfile1.txt\", \"r\", encoding = \"utf-8\") as in_f:\n",
    "    lines = in_f.read()   \n",
    "    print(lines) "
   ]
  },
  {
   "cell_type": "markdown",
   "metadata": {},
   "source": [
    "#### 한 파일의 내용을 읽어서 다른 파일에 쓰기\n",
    "- 한 파일을 읽기 모드로, 다른 파일을 쓰기 모드로 open"
   ]
  },
  {
   "cell_type": "code",
   "execution_count": null,
   "metadata": {},
   "outputs": [],
   "source": [
    "with open(\"./dataset/newfile1.txt\", \"r\", encoding = \"utf-8\") as in_f:\n",
    "    with open(\"./dataset/newfile3.txt\", \"w\", encoding = \"utf-8\") as out_f:\n",
    "    \n",
    "        lines = in_f.readlines()                    # 파일의 내용을 리스트로 저장\n",
    "    \n",
    "        for line in lines:                          # 리스트의 각 요소인 행에 대해 반복 쓰기\n",
    "            out_f.write(line)\n",
    "\n",
    "with open(\"./dataset/newfile3.txt\", \"r\", encoding = \"utf-8\") as in_f:\n",
    "    lines = in_f.read()   \n",
    "    print(lines) "
   ]
  },
  {
   "cell_type": "markdown",
   "metadata": {},
   "source": [
    "### 13. Numpy 개요"
   ]
  },
  {
   "cell_type": "markdown",
   "metadata": {},
   "source": [
    "#### 벡터와 행렬\n",
    "- 벡터\n",
    " - 크기화 방향을 가진 양\n",
    " - 파이썬에서는 1차원 배열로 표현 가능\n",
    "- 행렬\n",
    " - 파이썬의 2차원 배열에 해당 (행과 열로 구성됨)\n",
    "- 일반적으로 3차원 이상은 N차원 배열이라고 나타냄\n",
    " - 데이터 과학에서는 배열 대신 텐서(Tensor) 라는 표현을 자주 사용함\n",
    "![벡터와 행렬](./images/Part01-04.png)"
   ]
  },
  {
   "cell_type": "markdown",
   "metadata": {},
   "source": [
    "#### Numpy의 특징\n",
    "- 행렬을 비롯한 배열 연산을 위한 핵심 라이브러리 (NUMerical PYthon)\n",
    "- list 객체를 개선한 ndarray 객체 제공 (많은 데이터를 빠르게 처리)\n",
    "- N 차원 배열 객체를 다룸"
   ]
  },
  {
   "cell_type": "markdown",
   "metadata": {},
   "source": [
    "![Numpy 배열의 차원](images/Part01-05.png)"
   ]
  },
  {
   "cell_type": "markdown",
   "metadata": {},
   "source": [
    "#### 넘파이 import 및 버전 확인"
   ]
  },
  {
   "cell_type": "code",
   "execution_count": null,
   "metadata": {},
   "outputs": [],
   "source": [
    "import numpy as np\n",
    "np.__version__"
   ]
  },
  {
   "cell_type": "markdown",
   "metadata": {},
   "source": [
    "### 14. Numpy 배열 생성"
   ]
  },
  {
   "cell_type": "markdown",
   "metadata": {},
   "source": [
    "#### 배열 객체 정보의 출력\n",
    "- dimension: 배열의 차원\n",
    "- shape: 배열의 형상\n",
    "- dtype: 각 요소의 자료형"
   ]
  },
  {
   "cell_type": "markdown",
   "metadata": {},
   "source": [
    "- 배열 객체 정보의 출력을 위한 pprint() 함수 정의"
   ]
  },
  {
   "cell_type": "code",
   "execution_count": null,
   "metadata": {},
   "outputs": [],
   "source": [
    "import numpy as np\n",
    "\n",
    "def pprint(arr):\n",
    "    print(\"shape: {}, dimension: {}, size:{}, dtype:{}\".format(arr.shape, arr.ndim, arr.size, arr.dtype))\n",
    "    print(\"Array's Data:\\n\", arr)"
   ]
  },
  {
   "cell_type": "markdown",
   "metadata": {},
   "source": [
    "#### 파이썬 리스트로부터 Numpy 배열 생성"
   ]
  },
  {
   "cell_type": "markdown",
   "metadata": {},
   "source": [
    "- 파이썬 1차원 리스트로부터 넘파이 배열 생성"
   ]
  },
  {
   "cell_type": "code",
   "execution_count": null,
   "metadata": {},
   "outputs": [],
   "source": [
    "arr = [1, 2, 3]\n",
    "a = np.array(arr)\n",
    "\n",
    "print(arr)\n",
    "print(a)\n",
    "pprint(a)"
   ]
  },
  {
   "cell_type": "markdown",
   "metadata": {},
   "source": [
    "- 파이썬 2차원 리스트로부터 넘파이 배열 생성\n",
    "- 요소의 데이터 타입 명시적 지정"
   ]
  },
  {
   "cell_type": "code",
   "execution_count": null,
   "metadata": {},
   "outputs": [],
   "source": [
    "arr = [[1,2,3], [4,5,6]]\n",
    "a= np.array(arr, dtype = float)\n",
    "\n",
    "pprint(a)"
   ]
  },
  {
   "cell_type": "markdown",
   "metadata": {},
   "source": [
    "- 파이썬 3차원 리스트로부터 넘파이 배열 생성\n",
    "- 요소의 데이터 타입 명시적 지정"
   ]
  },
  {
   "cell_type": "code",
   "execution_count": null,
   "metadata": {},
   "outputs": [],
   "source": [
    "arr = [[[1,2,3], [4,5,6]], [[3,2,1], [4,5,6]]]\n",
    "a= np.array(arr, dtype = float)\n",
    "\n",
    "pprint(a)"
   ]
  },
  {
   "cell_type": "markdown",
   "metadata": {},
   "source": [
    "#### 형상을 지정한 배열의 생성 및 초기화\n",
    "- 원하는 형상으로 배열을 설정하고, 각 요소를 특정 값으로 초기화할 수 있음\n",
    "- zeros, ones, full, eye 등이 사용됨"
   ]
  },
  {
   "cell_type": "markdown",
   "metadata": {},
   "source": [
    "- zeros: 지정된 형상의 배열을 생성하고, 모든 요소를 0으로 초기화\n",
    "- ones: 지정된 형상의 배열을 생성하고, 모든 요소를 1로 초기화"
   ]
  },
  {
   "cell_type": "code",
   "execution_count": null,
   "metadata": {},
   "outputs": [],
   "source": [
    "a = np.zeros((3, 4),dtype=int)\n",
    "pprint(a)\n",
    "\n",
    "b = np.ones((2,3,4),dtype=int)\n",
    "pprint(b)"
   ]
  },
  {
   "cell_type": "markdown",
   "metadata": {},
   "source": [
    "- full: 지정된 형상의 배열을 생성하고, 모든 요소를 주어진 값으로 초기화\n",
    "- eye: N x N 형태의 단위 행렬(Unit Matrix) 생성"
   ]
  },
  {
   "cell_type": "code",
   "execution_count": null,
   "metadata": {},
   "outputs": [],
   "source": [
    "a = np.full((2,3),7, dtype = int)\n",
    "pprint(a)\n",
    "\n",
    "b = np.eye(4, dtype = int)\n",
    "pprint(b)"
   ]
  },
  {
   "cell_type": "markdown",
   "metadata": {},
   "source": [
    "#### 기존 배열과 형상이 동일한 배열 생성\n",
    "- like 함수 사용\n",
    "- zeros_like, ones_like, full_like"
   ]
  },
  {
   "cell_type": "code",
   "execution_count": null,
   "metadata": {},
   "outputs": [],
   "source": [
    "a = np.array([[1,2,3], [4,5,6]])\n",
    "pprint(a)\n",
    "\n",
    "print(\" \")\n",
    "\n",
    "b = np.ones_like(a)\n",
    "pprint(b)"
   ]
  },
  {
   "cell_type": "markdown",
   "metadata": {},
   "source": [
    "### 15. Numpy 데이터 생성 함수"
   ]
  },
  {
   "cell_type": "markdown",
   "metadata": {},
   "source": [
    "#### arange() 함수\n",
    "- 주어진 조건으로 데이터를 생성하기 위해 가장 많이 사용\n",
    "- np.arange(start, stop, step,dtype=None) 으로 사용\n",
    "- stop은 반드시 지정해야 하며, start는 생략시 0, step은 생략시 1, dtype은 생략시 stop 데이터 타입에 따라 결정됨"
   ]
  },
  {
   "cell_type": "code",
   "execution_count": null,
   "metadata": {},
   "outputs": [],
   "source": [
    "a = np.arange(5)\n",
    "pprint(a)\n",
    "print(\"\")\n",
    "\n",
    "b = np.arange(5.0)\n",
    "pprint(b)\n",
    "print(\"\")\n",
    "\n",
    "c = np.arange(1, 15, 2, float)\n",
    "pprint(c)"
   ]
  },
  {
   "cell_type": "markdown",
   "metadata": {},
   "source": [
    "#### 배열의 형상 변경\n",
    "- reshape(): 데이터 생성 후 형상 변경"
   ]
  },
  {
   "cell_type": "code",
   "execution_count": null,
   "metadata": {},
   "outputs": [],
   "source": [
    "a = np.arange(0, 10).reshape(2, 5)\n",
    "b = np.arange(0, 10).reshape(5, 2)\n",
    "\n",
    "print(a)\n",
    "print(b)"
   ]
  },
  {
   "cell_type": "markdown",
   "metadata": {},
   "source": [
    "#### 난수 기반 데이터 생성\n",
    "- np.random.random\n",
    " - [0, 1)의 균등 분포를 따르는 표본 추출\n",
    " - random(shape)\n",
    "- np.random.rand\n",
    " - [0, 1)의 균등 분포를 따르는 표본 추출\n",
    " - rand(d0, d1, ..., dn): 차원 수만큼 인수 입력\n",
    "- np.random.randint\n",
    " - [low, high)의 균등 분포를 따르는 표본 추출\n",
    " - randint(low, high, shape) \n",
    "- np.random.normal\n",
    " - 정규 분포를 따르는 표본 추출\n",
    " - normal(mean, std, shape)\n",
    "- np.random.randn\n",
    " - 표준 정규분포를 따르는 표본 추출 (mean = 0, std = 1)\n",
    " - randn(d0, d1, ..., dn): 차원 수만큼 인수 입력\n",
    "\n"
   ]
  },
  {
   "cell_type": "code",
   "execution_count": null,
   "metadata": {},
   "outputs": [],
   "source": [
    "a = np.random.random((2, 3))\n",
    "pprint(a)"
   ]
  },
  {
   "cell_type": "code",
   "execution_count": null,
   "metadata": {},
   "outputs": [],
   "source": [
    "a = np.random.rand(2,3)\n",
    "pprint(a)"
   ]
  },
  {
   "cell_type": "code",
   "execution_count": null,
   "metadata": {},
   "outputs": [],
   "source": [
    "a = np.random.randint(5, 10, (2, 3))     # low = 5, high = 10\n",
    "pprint(a)\n",
    "print(\"\")\n",
    "\n",
    "a = np.random.randint(5, 10, (1,10))\n",
    "print(a)\n",
    "print(\"\")\n",
    "\n",
    "a = np.random.randint(5, 10, (10))\n",
    "print(a)\n",
    "print(\"\")"
   ]
  },
  {
   "cell_type": "code",
   "execution_count": null,
   "metadata": {},
   "outputs": [],
   "source": [
    "a = np.random.normal(0, 1, (2, 3))      # mean = 0, std = 1\n",
    "pprint(a)"
   ]
  },
  {
   "cell_type": "code",
   "execution_count": null,
   "metadata": {},
   "outputs": [],
   "source": [
    "a = np.random.randn(2,3)\n",
    "pprint(a)"
   ]
  },
  {
   "cell_type": "markdown",
   "metadata": {},
   "source": [
    "#### 난수의 시작점 지정\n",
    "- np.random.seed(number) \n",
    "- 시작점을 지정하여 항상 동일한 난수를 생성할 수 있음"
   ]
  },
  {
   "cell_type": "code",
   "execution_count": null,
   "metadata": {},
   "outputs": [],
   "source": [
    "for i in range(0,5):\n",
    "    a = np.random.randint(0, 100, (1,5))\n",
    "    print(a)"
   ]
  },
  {
   "cell_type": "code",
   "execution_count": null,
   "metadata": {},
   "outputs": [],
   "source": [
    "for i in range(0,5):\n",
    "    np.random.seed(100)\n",
    "    b = np.random.randint(0, 100, (1,5))\n",
    "    print(b)"
   ]
  },
  {
   "cell_type": "markdown",
   "metadata": {},
   "source": [
    "### 16. Numpy 배열 연산"
   ]
  },
  {
   "cell_type": "markdown",
   "metadata": {},
   "source": [
    "#### 산술 연산\n",
    "- 사칙연산 (+, -, *, /) 은 각 요소별로 수행"
   ]
  },
  {
   "cell_type": "code",
   "execution_count": null,
   "metadata": {},
   "outputs": [],
   "source": [
    "# 연산 실습용 배열 생성\n",
    "\n",
    "a = np.arange(1, 11).reshape(2, 5)\n",
    "b = np.arange(10, 0, -1).reshape(2, 5)\n",
    "\n",
    "print(a)\n",
    "print(b)"
   ]
  },
  {
   "cell_type": "markdown",
   "metadata": {},
   "source": [
    "- 연산자를 이용한 산술 연산 수행"
   ]
  },
  {
   "cell_type": "code",
   "execution_count": null,
   "metadata": {},
   "outputs": [],
   "source": [
    "print(a+b)\n",
    "print(a-b)\n",
    "print(a*b)\n",
    "print(a/b)"
   ]
  },
  {
   "cell_type": "markdown",
   "metadata": {},
   "source": [
    "- 함수를 이용한 산술 연산 수행 (위와 동일한 결과)"
   ]
  },
  {
   "cell_type": "code",
   "execution_count": null,
   "metadata": {},
   "outputs": [],
   "source": [
    "print(np.add(a, b))\n",
    "print(np.subtract(a, b))\n",
    "print(np.multiply(a, b))\n",
    "print(np.divide(a, b))"
   ]
  },
  {
   "cell_type": "markdown",
   "metadata": {},
   "source": [
    "#### 기타 연산 (지수, 로그, 제곱근, 삼각함수)\n",
    "- 각 요소별로 수행"
   ]
  },
  {
   "cell_type": "code",
   "execution_count": null,
   "metadata": {},
   "outputs": [],
   "source": [
    "a = np.arange(1, 11).reshape(2, 5)\n",
    "\n",
    "print(np.exp(a))\n",
    "print(np.log(a))\n",
    "print(np.sqrt(a))\n",
    "print(np.sin(a))\n",
    "print(np.cos(a))\n",
    "print(np.tan(a))"
   ]
  },
  {
   "cell_type": "markdown",
   "metadata": {},
   "source": [
    "#### 행렬의 곱과 벡터의 내적\n",
    "- 벡터의 내적: 두 벡터에서 대응하는 원소들의 곱을 모두 더한 것\n",
    "- 벡터의 내적을 2차원으로 확장한 것이 행렬의 곱임\n",
    "- 행렬의 곱에서는 대응하는 전후 행렬의 형상이 매우 중요함\n",
    "![행렬의 곱과 벡터의 내적](images/Part01-06.png)"
   ]
  },
  {
   "cell_type": "markdown",
   "metadata": {},
   "source": [
    "- np.dot(): 벡터의 내적 계산에 주로 사용됨\n",
    " - 벡터의 내적, 행렬 곱 모두 수행 가능\n",
    "- np.matmul(): 행렬 곱 계산에 주로 사용됨\n",
    " - 벡터의 내적, 행렬 곱 모두 수행 가능"
   ]
  },
  {
   "cell_type": "code",
   "execution_count": null,
   "metadata": {},
   "outputs": [],
   "source": [
    "import numpy as np\n",
    "\n",
    "va = np.array([1, 2, 3])\n",
    "vb = np.array([4, 5, 6])\n",
    "\n",
    "print(np.dot(va, vb))\n",
    "# print(np.matmul(va,vb))                   # 동일한 결과 출력\n",
    "\n",
    "ma = np.array([[1, 2, 3], [4, 5, 6]])\n",
    "mb = np.array([[6, 5], [4, 3], [2, 1]])\n",
    "\n",
    "print(np.matmul(ma,mb))\n",
    "# print(np.dot(ma, mb))                       # 동일한 결과 출력"
   ]
  },
  {
   "cell_type": "markdown",
   "metadata": {},
   "source": [
    "#### 비교 연산"
   ]
  },
  {
   "cell_type": "markdown",
   "metadata": {},
   "source": [
    "- 각 요소별 비교"
   ]
  },
  {
   "cell_type": "code",
   "execution_count": null,
   "metadata": {},
   "outputs": [],
   "source": [
    "a = np.arange(1, 11).reshape(2, 5)\n",
    "b = np.arange(10, 0, -1).reshape(2, 5)\n",
    "\n",
    "print(a)\n",
    "print(b)\n",
    "print(a == b)\n",
    "print(a > b)"
   ]
  },
  {
   "cell_type": "markdown",
   "metadata": {},
   "source": [
    "- 배열 전체의 동등 여부 비교"
   ]
  },
  {
   "cell_type": "code",
   "execution_count": null,
   "metadata": {},
   "outputs": [],
   "source": [
    "a = np.arange(1, 11).reshape(2, 5)\n",
    "b = np.arange(10, 0, -1).reshape(2, 5)\n",
    "\n",
    "print(np.array_equal(a, b))"
   ]
  },
  {
   "cell_type": "markdown",
   "metadata": {},
   "source": [
    "#### 집계 연산\n",
    "- sum, min, max, mean, median, corrcoef, std 등\n",
    "- 지정된 축(axis)에 대해 동일 인덱스 요소 간의 집계 수행\n",
    " - axis가 지정되지 않은 경우: 전체 집계\n",
    " - axis = 0인 경우: 각 행에 대해 동일 열을 집계\n",
    " - axis = 1인 경우: 각 열에 대해 동일 행을 집계\n",
    "- 두 가지 방식으로 수행 가능\n",
    " - 예: a.mean() = np.mean(a), a.mean(axis = 0) = np.mean(a, axis = 0)"
   ]
  },
  {
   "cell_type": "code",
   "execution_count": null,
   "metadata": {},
   "outputs": [],
   "source": [
    "# 연산 실습용 배열 생성\n",
    "\n",
    "a = np.arange(1, 7).reshape(2, 3)\n",
    "pprint(a)"
   ]
  },
  {
   "cell_type": "code",
   "execution_count": null,
   "metadata": {},
   "outputs": [],
   "source": [
    "print(\"전체:\", np.sum(a))      # a.sum() 과 동일\n",
    "print(\"axis=0:\", np.sum(a, axis=0))\n",
    "print(\"axis=1:\", np.sum(a, axis=1))"
   ]
  },
  {
   "cell_type": "markdown",
   "metadata": {},
   "source": [
    "#### 브로드캐스트\n",
    "- 배열 연산 시 두 배열 간의 형상이 다른 경우 자동으로 확대되어 두 배열의 형상을 맞춤\n",
    "\n",
    "![브로드캐스트](images/Part01-07.png) "
   ]
  },
  {
   "cell_type": "code",
   "execution_count": null,
   "metadata": {},
   "outputs": [],
   "source": [
    "a = np.arange(3)\n",
    "print(a)\n",
    "print(a + 5)\n",
    "\n",
    "print(\"\")\n",
    "\n",
    "a = np.ones((3, 3))\n",
    "b = np.arange(3)\n",
    "print(a)\n",
    "print(b)\n",
    "print(a + b)\n",
    "\n",
    "print(\"\")\n",
    "\n",
    "a = np.arange(3).reshape((3,1))\n",
    "b = np.arange(3)                         \n",
    "print(a)\n",
    "print(b)\n",
    "print(a+b)"
   ]
  },
  {
   "cell_type": "markdown",
   "metadata": {},
   "source": [
    "### 17. Numpy 배열 복사, 정렬, 전치, 결합"
   ]
  },
  {
   "cell_type": "markdown",
   "metadata": {},
   "source": [
    "#### 배열 복사\n",
    "- np.copy() 함수 이용\n",
    " - 깊은 복사: 주소만 복사하는 것이 아니라 새로운 배열을 생성함"
   ]
  },
  {
   "cell_type": "code",
   "execution_count": null,
   "metadata": {},
   "outputs": [],
   "source": [
    "a = np.arange(6).reshape(2,3)\n",
    "b = np.copy(a) + 1\n",
    "\n",
    "print(a)\n",
    "print(b)"
   ]
  },
  {
   "cell_type": "markdown",
   "metadata": {},
   "source": [
    "#### 배열 정렬\n",
    "- 축(axis)를 기준으로 요소를 정렬\n",
    "- axis = 0 인 경우, 각 행에 대해 동일 인덱스를 정렬\n",
    "- axis = 1 인 경우, 각 열에 대해 동일 인덱스를 정렬\n",
    "- 축 지정이 생략된 경우 axis = -1 이 기본, 즉 마지막 axis를 지정한 것과 동일"
   ]
  },
  {
   "cell_type": "code",
   "execution_count": null,
   "metadata": {},
   "outputs": [],
   "source": [
    "a = np.array([[4, 1, 7], [2, 8, 0], [3, 9, 5]])\n",
    "b = np.copy(a)\n",
    "c = np.copy(a)\n",
    "print(a)               # a, b, c는 모두 동일한 배열\n",
    "\n",
    "a.sort(axis=0)\n",
    "b.sort(axis=1)\n",
    "c.sort()\n",
    "\n",
    "print(a)\n",
    "print(b)\n",
    "print(c)"
   ]
  },
  {
   "cell_type": "markdown",
   "metadata": {},
   "source": [
    "#### 배열 전치\n",
    "- 전치(Transpose): 행렬의 행과 열이 바뀌는 변환\n",
    "- arr_name.T 형태로 사용\n",
    "![전치](images/Part01-08.png) "
   ]
  },
  {
   "cell_type": "code",
   "execution_count": null,
   "metadata": {},
   "outputs": [],
   "source": [
    "a = np.array([[4, 1, 7], [2, 8, 0], [3, 9, 5]])\n",
    "print(a)\n",
    "print(a.T)"
   ]
  },
  {
   "cell_type": "markdown",
   "metadata": {},
   "source": [
    "#### 배열 결합"
   ]
  },
  {
   "cell_type": "code",
   "execution_count": null,
   "metadata": {},
   "outputs": [],
   "source": [
    "a = np.arange(1, 7).reshape((2, 3))\n",
    "b = np.arange(7, 13).reshape((2, 3))\n",
    "print(a)\n",
    "print(b)\n",
    "\n",
    "con_0 = np.concatenate((a, b), axis = 0)     # axis = 0 이 기본값\n",
    "con_1 = np.concatenate((a, b), axis = 1)\n",
    "\n",
    "print(con_0)\n",
    "print(con_1)"
   ]
  },
  {
   "cell_type": "markdown",
   "metadata": {},
   "source": [
    "### 18. Matplotlib"
   ]
  },
  {
   "cell_type": "markdown",
   "metadata": {},
   "source": [
    "#### Matplotlib 기본\n",
    "- 그래프를 그려주는 라이브러리\n",
    "- matplotlib의 pyplot 모듈 사용\n",
    "- plt.plot() 메서드를 이용해 그림을 그림\n",
    "- plt.show() 메서드를 이용해 화면 출력\n",
    " - 화면 출력 후 버퍼 비움"
   ]
  },
  {
   "cell_type": "code",
   "execution_count": null,
   "metadata": {},
   "outputs": [],
   "source": [
    "import numpy as np\n",
    "import matplotlib.pyplot as plt\n",
    "\n",
    "x = np.arange(0, 6, 0.1)    # 0에서 6까지 0.1 간격으로 데이터 생성\n",
    "y = np.sin(x)\n",
    "\n",
    "plt.plot(x, y)\n",
    "plt.show()"
   ]
  },
  {
   "cell_type": "markdown",
   "metadata": {},
   "source": [
    "#### Matplotlib 활용\n",
    "- 제목, 범례, 레이블 표시"
   ]
  },
  {
   "cell_type": "code",
   "execution_count": 52,
   "metadata": {},
   "outputs": [
    {
     "data": {
      "image/png": "[encoded data removed]",
      "text/plain": [
       "<Figure size 432x288 with 1 Axes>"
      ]
     },
     "metadata": {},
     "output_type": "display_data"
    }
   ],
   "source": [
    "import numpy as np\n",
    "import matplotlib.pyplot as plt\n",
    "\n",
    "x = np.arange(0, 6, 0.1)    # 0에서 6까지 0.1 간격으로 데이터 생성\n",
    "y1 = np.sin(x)\n",
    "y2 = np.cos(x)\n",
    "\n",
    "plt.plot(x, y1, label = \"sin\")\n",
    "plt.plot(x, y2, linestyle = \"--\", label = \"cos\")     # cos 함수는 점선으로 표시\n",
    "plt.xlabel(\"x\")                                      # x축 이름\n",
    "plt.ylabel(\"y\")                                      # y축 이름\n",
    "plt.title(\"sin & cos\")                               # 그래프 제목\n",
    "plt.legend()                                         # 범례 추가\n",
    "\n",
    "plt.show()"
   ]
  },
  {
   "cell_type": "markdown",
   "metadata": {},
   "source": [
    "#### 이미지 표시\n",
    "- matplotlib.image 모듈의 imread() 메서드 사용\n",
    "- plt.imshow() 메서드를 이용해 그림을 그림"
   ]
  },
  {
   "cell_type": "code",
   "execution_count": 57,
   "metadata": {},
   "outputs": [
    {
     "data": {
      "image/png": "[encoded data removed]",
      "text/plain": [
       "<Figure size 432x288 with 1 Axes>"
      ]
     },
     "metadata": {},
     "output_type": "display_data"
    }
   ],
   "source": [
    "import matplotlib.pyplot as plt\n",
    "from matplotlib.image import imread\n",
    "\n",
    "img = imread(\"./images/etc/lena.png\")\n",
    "\n",
    "plt.imshow(img)\n",
    "plt.show()"
   ]
  }
 ],
 "metadata": {
  "kernelspec": {
   "display_name": "Python 3",
   "language": "python",
   "name": "python3"
  },
  "language_info": {
   "codemirror_mode": {
    "name": "ipython",
    "version": 3
   },
   "file_extension": ".py",
   "mimetype": "text/x-python",
   "name": "python",
   "nbconvert_exporter": "python",
   "pygments_lexer": "ipython3",
   "version": "3.8.3"
  }
 },
 "nbformat": 4,
 "nbformat_minor": 2
}
